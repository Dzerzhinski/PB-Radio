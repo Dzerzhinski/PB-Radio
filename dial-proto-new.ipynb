{
 "cells": [
  {
   "cell_type": "code",
   "execution_count": 1,
   "metadata": {},
   "outputs": [
    {
     "data": {
      "application/vnd.jupyter.widget-view+json": {
       "model_id": "e669c5e3e95b4a759c896049af2592c3",
       "version_major": 2,
       "version_minor": 0
      },
      "text/plain": [
       "HBox(children=(VBox(children=(IntSlider(value=0, description='11', max=6, min=-6), IntSlider(value=0, descript…"
      ]
     },
     "metadata": {},
     "output_type": "display_data"
    }
   ],
   "source": [
    "import numpy as np\n",
    "from ipywidgets import widgets\n",
    "from IPython.display import display, SVG, clear_output\n",
    "\n",
    "import radio_screen as scrn\n",
    "\n",
    "PRIME = [11, 13, 19]\n",
    "OFFSET = [3, -2, 1]\n",
    "\n",
    "knob = [-OFFSET[i] / PRIME[i] for i in range(len(PRIME))]\n",
    "start_val = 0\n",
    "for i in knob: \n",
    "    start_val += i\n",
    "\n",
    "knob1 = widgets.IntSlider(value = 0, min = -6, max = 6, description = \"11\")\n",
    "knob2 = widgets.IntSlider(value = 0, min = -6, max = 6, description = \"13\")\n",
    "knob3 = widgets.IntSlider(value = 0, min = -6, max = 6, description = \"19\")\n",
    "\n",
    "out = widgets.FloatRangeSlider(value = [start_val, 0], min = -1.0, max = 1.0, steps = 0.0001, disabled = True)\n",
    "\n",
    "screen = widgets.Output()\n",
    "\n",
    "    \n",
    "\n",
    "def draw_screen(): \n",
    "    ttl = 0\n",
    "    for y in knob: \n",
    "        ttl += y\n",
    "    cycle = 0\n",
    "    if(ttl < 0): \n",
    "        cycle = -(1 / ttl) * 0.1\n",
    "    elif(ttl > 0):\n",
    "        cycle = 1 / ttl * 0.1\n",
    "    else: \n",
    "        cycle = ttl\n",
    "    scrn.make_file(\"screen\", 200, 300, ttl, cycle)\n",
    "    with screen: \n",
    "        clear_output(wait = True)\n",
    "        display(SVG(\"screen.svg\"))\n",
    "\n",
    "def gen_hand(changes, foo): \n",
    "    x = (changes[\"new\"] - OFFSET[foo]) / PRIME[foo]\n",
    "    knob[foo] = x\n",
    "    ttl = 0\n",
    "    for y in knob: \n",
    "        ttl += y\n",
    "    if(ttl < 0): \n",
    "        out.value = [ttl, 0]\n",
    "    else: \n",
    "        out.value = [0, ttl]\n",
    "    draw_screen()\n",
    "    \n",
    "def hand_1(changes): \n",
    "    gen_hand(changes, 0)\n",
    "    \n",
    "def hand_2(changes): \n",
    "    gen_hand(changes, 1)\n",
    "\n",
    "def hand_3(changes): \n",
    "    gen_hand(changes, 2)\n",
    "\n",
    "\n",
    "\n",
    "knob1.observe(hand_1, names = \"value\")\n",
    "knob2.observe(hand_2, names = \"value\")\n",
    "knob3.observe(hand_3, names = \"value\")\n",
    "\n",
    "draw_screen() \n",
    "\n",
    "controls = widgets.VBox([knob1, knob2, knob3, out])\n",
    "game = widgets.HBox([controls, screen])\n",
    "display(game)\n",
    "\n"
   ]
  }
 ],
 "metadata": {
  "kernelspec": {
   "display_name": "Python 3",
   "language": "python",
   "name": "python3"
  },
  "language_info": {
   "codemirror_mode": {
    "name": "ipython",
    "version": 3
   },
   "file_extension": ".py",
   "mimetype": "text/x-python",
   "name": "python",
   "nbconvert_exporter": "python",
   "pygments_lexer": "ipython3",
   "version": "3.6.5"
  }
 },
 "nbformat": 4,
 "nbformat_minor": 2
}
